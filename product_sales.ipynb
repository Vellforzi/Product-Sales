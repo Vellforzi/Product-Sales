# Project Overview

The aim of the project is to analyse the effectiveness of three sales methods (Call, Email, Email + Call). 
The main task is to identify the most efficient method, take into account missing values and offer recommendations to improve business processes.

import pandas as pd
import numpy as np
import matplotlib.pyplot as plt
import seaborn as sns

sales = pd.read_csv('product_sales.csv')
sales.head()

sales.info()

print(f'Week number:', sales['week'].unique())
print(f'\nSales methods:', sales['sales_method'].unique())
print(f'\nNumber of customers_id:', sales['customer_id'].nunique())
print(f'\nUnique value of nb_sold:', sales['nb_sold'].unique())

if not sales[sales['revenue'] < 0].values:
    message = 'there are no negative values'
else:
    message = 'there are some negative values'
print(f"\nUnique value of revenue and number of missing values: {sales['revenue'].unique()}, {int(sales['revenue'].isna().sum())} missing values and {message}.")

diff = 2024 - 1984
outliers = sales[sales['years_as_customer'] > diff]['years_as_customer'].values
print(f"\nUnique value of years_as_customer: {sales['years_as_customer'].unique()} and {len(outliers)} outliers: {outliers}.")
print(f'\nUnique value of nb_site_visits:', sales['nb_site_visits'].unique())

states = sales['state'].unique()
print(f"\nUnique value of state: {states}, {len(states)} states.")
